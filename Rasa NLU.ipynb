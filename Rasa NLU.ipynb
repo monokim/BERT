{
 "cells": [
  {
   "cell_type": "markdown",
   "metadata": {},
   "source": [
    "{\n",
    "  \"rasa_nlu_data\": {\n",
    "    \"common_examples\": [\n",
    "      {\n",
    "        \"intent\": \"greet\",\n",
    "        \"text\": \"hey\"\n",
    "      },\n",
    "      {\n",
    "        \"intent\": \"affirm\",\n",
    "        \"text\": \"indeed\"\n",
    "      },\n",
    "      {\n",
    "        \"intent\": \"affirm\",\n",
    "        \"text\": \"of course\"\n",
    "      },\n",
    "    ],\n",
    "    \"regex_features\": [],\n",
    "    \"lookup_tables\": [],\n",
    "    \"entity_synonyms\": []\n",
    "  }\n",
    "}"
   ]
  },
  {
   "cell_type": "code",
   "execution_count": 15,
   "metadata": {},
   "outputs": [],
   "source": [
    "import json\n",
    "\n",
    "with open(\"./Dataset/oos/data_full.json\") as f:\n",
    "    data = json.load(f)\n",
    "    \n",
    "oos_train = data.get('oos_train')\n",
    "oos_val = data.get('oos_val')\n",
    "val = data.get('val')\n",
    "train = data.get('train')\n",
    "\n",
    "train_data = train + oos_train\n",
    "test_data = val + oos_val"
   ]
  },
  {
   "cell_type": "code",
   "execution_count": 16,
   "metadata": {},
   "outputs": [],
   "source": [
    "data = {\n",
    "  \"rasa_nlu_data\": {\n",
    "    \"common_examples\": [],\n",
    "    \"regex_features\": [],\n",
    "    \"lookup_tables\": [],\n",
    "    \"entity_synonyms\": []\n",
    "  }\n",
    "}\n",
    "val_data = {\n",
    "  \"rasa_nlu_data\": {\n",
    "    \"common_examples\": [],\n",
    "    \"regex_features\": [],\n",
    "    \"lookup_tables\": [],\n",
    "    \"entity_synonyms\": []\n",
    "  }\n",
    "}"
   ]
  },
  {
   "cell_type": "code",
   "execution_count": 17,
   "metadata": {},
   "outputs": [],
   "source": [
    "for s, l in train_data:\n",
    "    data[\"rasa_nlu_data\"][\"common_examples\"].append({\"intent\": l, \"text\": s})\n",
    "    \n",
    "for s, l in test_data:\n",
    "    val_data[\"rasa_nlu_data\"][\"common_examples\"].append({\"intent\": l, \"text\": s})"
   ]
  },
  {
   "cell_type": "code",
   "execution_count": 13,
   "metadata": {},
   "outputs": [],
   "source": [
    "with open('intents.json', 'w') as outfile:\n",
    "    json.dump(data, outfile)"
   ]
  },
  {
   "cell_type": "code",
   "execution_count": 18,
   "metadata": {},
   "outputs": [],
   "source": [
    "with open('test.json', 'w') as outfile:\n",
    "    json.dump(val_data, outfile)"
   ]
  },
  {
   "cell_type": "markdown",
   "metadata": {},
   "source": [
    "- rasa data convert nlu --data data/nlu.md --out data/nlu.json -f json\n",
    "- rasa test nlu -u train_test_split/test_data.md --model models/nlu-20180323-145833.tar.gz"
   ]
  },
  {
   "cell_type": "code",
   "execution_count": null,
   "metadata": {},
   "outputs": [],
   "source": []
  }
 ],
 "metadata": {
  "kernelspec": {
   "display_name": "bert",
   "language": "python",
   "name": "bert"
  },
  "language_info": {
   "codemirror_mode": {
    "name": "ipython",
    "version": 3
   },
   "file_extension": ".py",
   "mimetype": "text/x-python",
   "name": "python",
   "nbconvert_exporter": "python",
   "pygments_lexer": "ipython3",
   "version": "3.6.8"
  }
 },
 "nbformat": 4,
 "nbformat_minor": 2
}
