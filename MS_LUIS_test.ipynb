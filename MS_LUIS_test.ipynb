{
 "cells": [
  {
   "cell_type": "markdown",
   "metadata": {},
   "source": [
   ]
  },
  {
   "cell_type": "markdown",
   "metadata": {},
   "source": [
    "### Set header"
   ]
  },
  {
   "cell_type": "code",
   "execution_count": 1,
   "metadata": {
    "scrolled": true
   },
   "outputs": [],
   "source": [
    "import requests\n",
    "import json\n",
    "\n",
    "headers = {\n",
    "    # Request headers\n",
    "    'Content-Type': 'application/json',\n",
    "    'Ocp-Apim-Subscription-Key': '05f71fb30f0a49888bf8728ea23c3493',\n",
    "}"
   ]
  },
  {
   "cell_type": "markdown",
   "metadata": {},
   "source": [
    "### Add Intent example"
   ]
  },
  {
   "cell_type": "code",
   "execution_count": 2,
   "metadata": {},
   "outputs": [
    {
     "name": "stdout",
     "output_type": "stream",
     "text": [
      "\"2a690b22-34b8-473b-813d-9551236251b8\"\n"
     ]
    }
   ],
   "source": [
    "data = {\"name\": \"tttest\"}\n",
    "r = requests.post(\"https://westus.api.cognitive.microsoft.com/luis/api/v2.0/apps/fa7abb00-ec17-4455-a75a-fd25bbe74ff2/versions/0.1/intents\", data=json.dumps(data), headers=headers)\n",
    "print(r.text)"
   ]
  },
  {
   "cell_type": "markdown",
   "metadata": {},
   "source": [
    "### Add examples into indent example"
   ]
  },
  {
   "cell_type": "code",
   "execution_count": 33,
   "metadata": {},
   "outputs": [
    {
     "name": "stdout",
     "output_type": "stream",
     "text": [
      "[{\"value\":{\"ExampleId\":1060380843,\"UtteranceText\":\"this is tttest\"},\"hasError\":false},{\"value\":{\"ExampleId\":1060380844,\"UtteranceText\":\"this is tttest2\"},\"hasError\":false}]\n"
     ]
    }
   ],
   "source": [
    "data = [\n",
    "    {\n",
    "        \"text\": \"this is tttest\",\n",
    "        \"intentName\": \"tttest\"\n",
    "    },\n",
    "    \n",
    "    {\n",
    "        \"text\": \"this is tttest2\",\n",
    "        \"intentName\": \"tttest\"\n",
    "    }\n",
    "]\n",
    "\n",
    "r = requests.post(\"https://westus.api.cognitive.microsoft.com/luis/api/v2.0/apps/fa7abb00-ec17-4455-a75a-fd25bbe74ff2/versions/0.1/examples\", data=json.dumps(data), headers=headers)\n",
    "print(r.text)"
   ]
  },
  {
   "cell_type": "markdown",
   "metadata": {},
   "source": [
    "### Load Dataset"
   ]
  },
  {
   "cell_type": "code",
   "execution_count": 3,
   "metadata": {},
   "outputs": [],
   "source": [
    "with open(\"./Dataset/oos/data_full.json\") as f:\n",
    "    data = json.load(f)\n",
    "    \n",
    "oos_train = data.get('oos_train')\n",
    "oos_val = data.get('oos_val')\n",
    "val = data.get('val')\n",
    "train = data.get('train')\n",
    "\n",
    "train_data = train + oos_train\n",
    "test_data = val + oos_val"
   ]
  },
  {
   "cell_type": "markdown",
   "metadata": {},
   "source": [
    "### Make Indent from dict & request for making indent\n",
    "- data = {\"name\": \"tttest\"}"
   ]
  },
  {
   "cell_type": "code",
   "execution_count": 38,
   "metadata": {},
   "outputs": [],
   "source": [
    "for d in label_dict:\n",
    "    data = {\"name\": d}\n",
    "    r = requests.post(\"https://westus.api.cognitive.microsoft.com/luis/api/v2.0/apps/fa7abb00-ec17-4455-a75a-fd25bbe74ff2/versions/0.1/intents\", data=json.dumps(data), headers=headers)\n",
    "    "
   ]
  },
  {
   "cell_type": "markdown",
   "metadata": {},
   "source": [
    "### Make json data & request for inserting examples\n",
    "[  \n",
    "    # {\"text\": \"this is test1111\", \"intentName\": \"test\"},\n",
    "    # {\"text\": \"this is test2222\", \"intentName\": \"test\"},  \n",
    "]"
   ]
  },
  {
   "cell_type": "code",
   "execution_count": 10,
   "metadata": {},
   "outputs": [
    {
     "name": "stdout",
     "output_type": "stream",
     "text": [
      "Example json\n",
      "[{'text': 'what expression would i use to say i love you if i were an italian', 'intentName': 'translate'}, {'text': \"can you tell me how to say 'i do not speak much spanish', in spanish\", 'intentName': 'translate'}, {'text': \"what is the equivalent of, 'life is good' in french\", 'intentName': 'translate'}, {'text': \"tell me how to say, 'it is a beautiful morning' in italian\", 'intentName': 'translate'}, {'text': 'if i were mongolian, how would i say that i am a tourist', 'intentName': 'translate'}]\n",
      "Data size : 15100\n",
      "0% complete\n",
      "0% complete\n",
      "0% complete\n",
      "0% complete\n",
      "0% complete\n",
      "0% complete\n",
      "0% complete\n",
      "0% complete\n",
      "0% complete\n",
      "0% complete\n",
      "0% complete\n",
      "0% complete\n",
      "0% complete\n",
      "0% complete\n",
      "0% complete\n",
      "0% complete\n",
      "0% complete\n",
      "0% complete\n",
      "0% complete\n",
      "0% complete\n",
      "0% complete\n",
      "0% complete\n",
      "0% complete\n",
      "0% complete\n",
      "0% complete\n",
      "0% complete\n",
      "0% complete\n",
      "0% complete\n",
      "0% complete\n",
      "0% complete\n",
      "0% complete\n",
      "0% complete\n",
      "0% complete\n",
      "0% complete\n",
      "0% complete\n",
      "0% complete\n",
      "0% complete\n",
      "0% complete\n",
      "0% complete\n",
      "0% complete\n",
      "0% complete\n",
      "0% complete\n",
      "0% complete\n",
      "0% complete\n",
      "0% complete\n",
      "0% complete\n",
      "0% complete\n",
      "0% complete\n",
      "0% complete\n",
      "0% complete\n",
      "0% complete\n",
      "0% complete\n",
      "0% complete\n",
      "0% complete\n",
      "0% complete\n",
      "0% complete\n",
      "0% complete\n",
      "0% complete\n",
      "0% complete\n",
      "0% complete\n",
      "0% complete\n",
      "0% complete\n",
      "0% complete\n",
      "0% complete\n",
      "0% complete\n",
      "0% complete\n",
      "0% complete\n",
      "0% complete\n",
      "0% complete\n",
      "0% complete\n",
      "0% complete\n",
      "0% complete\n",
      "0% complete\n",
      "0% complete\n",
      "0% complete\n",
      "0% complete\n",
      "0% complete\n",
      "0% complete\n",
      "0% complete\n",
      "0% complete\n",
      "0% complete\n",
      "0% complete\n",
      "0% complete\n",
      "0% complete\n",
      "0% complete\n",
      "0% complete\n",
      "0% complete\n",
      "0% complete\n",
      "0% complete\n",
      "0% complete\n",
      "0% complete\n",
      "0% complete\n",
      "0% complete\n",
      "0% complete\n",
      "0% complete\n",
      "0% complete\n",
      "0% complete\n",
      "0% complete\n",
      "0% complete\n",
      "0% complete\n",
      "0% complete\n",
      "0% complete\n",
      "0% complete\n",
      "0% complete\n",
      "0% complete\n",
      "0% complete\n",
      "0% complete\n",
      "0% complete\n",
      "0% complete\n",
      "0% complete\n",
      "0% complete\n",
      "0% complete\n",
      "0% complete\n",
      "0% complete\n",
      "0% complete\n",
      "0% complete\n",
      "0% complete\n",
      "0% complete\n",
      "0% complete\n",
      "0% complete\n",
      "0% complete\n",
      "0% complete\n",
      "0% complete\n",
      "0% complete\n",
      "0% complete\n",
      "0% complete\n",
      "0% complete\n",
      "0% complete\n",
      "0% complete\n",
      "0% complete\n",
      "0% complete\n",
      "0% complete\n",
      "0% complete\n",
      "0% complete\n",
      "0% complete\n",
      "0% complete\n",
      "0% complete\n",
      "0% complete\n",
      "0% complete\n",
      "0% complete\n",
      "0% complete\n",
      "0% complete\n",
      "0% complete\n",
      "0% complete\n",
      "0% complete\n",
      "0% complete\n",
      "0% complete\n",
      "0% complete\n",
      "0% complete\n",
      "0% complete\n",
      "0% complete\n",
      "Done\n"
     ]
    }
   ],
   "source": [
    "data = []\n",
    "for s, l in train_data:\n",
    "    data.append({'text': s, 'intentName': l})\n",
    "\n",
    "print(\"Example json\")\n",
    "print(data[:5])\n",
    "print(\"Data size : %d\" % len(data))\n",
    "for i in range(0, int(len(data)), 100):\n",
    "    end = i + 100\n",
    "    if end >= 15100:\n",
    "        end = 15099\n",
    "    done = int(end / len(data) * 100)\n",
    "    if done % 10 == 0:\n",
    "        print(\"%d%% complete\" % done)\n",
    "    sub_data = data[i:end]\n",
    "    requests.post(\"https://westus.api.cognitive.microsoft.com/luis/api/v2.0/apps/fa7abb00-ec17-4455-a75a-fd25bbe74ff2/versions/0.1/examples\", data=json.dumps(sub_data), headers=headers)\n",
    "    \n",
    "\n",
    "print(\"Done\")"
   ]
  },
  {
   "cell_type": "markdown",
   "metadata": {},
   "source": [
    "### Validate test data"
   ]
  },
  {
   "cell_type": "code",
   "execution_count": 67,
   "metadata": {},
   "outputs": [
    {
     "name": "stdout",
     "output_type": "stream",
     "text": [
      "test size : 3100\n"
     ]
    },
    {
     "ename": "KeyError",
     "evalue": "'topScoringIntent'",
     "output_type": "error",
     "traceback": [
      "\u001b[1;31m---------------------------------------------------------------------------\u001b[0m",
      "\u001b[1;31mKeyError\u001b[0m                                  Traceback (most recent call last)",
      "\u001b[1;32m<ipython-input-67-59bdf589ee74>\u001b[0m in \u001b[0;36m<module>\u001b[1;34m\u001b[0m\n\u001b[0;32m      5\u001b[0m \u001b[1;32mfor\u001b[0m \u001b[0ms\u001b[0m\u001b[1;33m,\u001b[0m \u001b[0ml\u001b[0m \u001b[1;32min\u001b[0m \u001b[0mtest_data\u001b[0m\u001b[1;33m:\u001b[0m\u001b[1;33m\u001b[0m\u001b[1;33m\u001b[0m\u001b[0m\n\u001b[0;32m      6\u001b[0m     \u001b[0mr\u001b[0m \u001b[1;33m=\u001b[0m \u001b[0mrequests\u001b[0m\u001b[1;33m.\u001b[0m\u001b[0mget\u001b[0m\u001b[1;33m(\u001b[0m\u001b[1;34m\"https://westus.api.cognitive.microsoft.com/luis/v2.0/apps/fa7abb00-ec17-4455-a75a-fd25bbe74ff2?verbose=true&timezoneOffset=0&subscription-key=05f71fb30f0a49888bf8728ea23c3493&q=\"\u001b[0m\u001b[1;33m+\u001b[0m\u001b[0ms\u001b[0m\u001b[1;33m,\u001b[0m \u001b[0mheaders\u001b[0m\u001b[1;33m=\u001b[0m\u001b[0mheaders\u001b[0m\u001b[1;33m)\u001b[0m\u001b[1;33m\u001b[0m\u001b[1;33m\u001b[0m\u001b[0m\n\u001b[1;32m----> 7\u001b[1;33m     \u001b[1;32mif\u001b[0m \u001b[0ml\u001b[0m \u001b[1;33m==\u001b[0m \u001b[0mr\u001b[0m\u001b[1;33m.\u001b[0m\u001b[0mjson\u001b[0m\u001b[1;33m(\u001b[0m\u001b[1;33m)\u001b[0m\u001b[1;33m[\u001b[0m\u001b[1;34m'topScoringIntent'\u001b[0m\u001b[1;33m]\u001b[0m\u001b[1;33m[\u001b[0m\u001b[1;34m'intent'\u001b[0m\u001b[1;33m]\u001b[0m\u001b[1;33m:\u001b[0m\u001b[1;33m\u001b[0m\u001b[1;33m\u001b[0m\u001b[0m\n\u001b[0m\u001b[0;32m      8\u001b[0m         \u001b[0mcount\u001b[0m \u001b[1;33m+=\u001b[0m \u001b[1;36m1\u001b[0m\u001b[1;33m\u001b[0m\u001b[1;33m\u001b[0m\u001b[0m\n\u001b[0;32m      9\u001b[0m \u001b[1;33m\u001b[0m\u001b[0m\n",
      "\u001b[1;31mKeyError\u001b[0m: 'topScoringIntent'"
     ]
    }
   ],
   "source": [
    "import time\n",
    "count = 0\n",
    "print(\"test size : %d\" % len(test_data))\n",
    "t0 = time.time()\n",
    "for s, l in test_data:\n",
    "    r = requests.get(\"https://westus.api.cognitive.microsoft.com/luis/v2.0/apps/fa7abb00-ec17-4455-a75a-fd25bbe74ff2?verbose=true&timezoneOffset=0&subscription-key=05f71fb30f0a49888bf8728ea23c3493&q=\"+s, headers=headers)\n",
    "    if l == r.json()['topScoringIntent']['intent']:\n",
    "        count += 1\n",
    "\n",
    "print(\"Validation time : %d\" % time.time() - t0)\n",
    "print(\"Accuracy : %.4f\" % count / len(test_data))"
   ]
  },
  {
   "cell_type": "code",
   "execution_count": 68,
   "metadata": {},
   "outputs": [
    {
     "name": "stdout",
     "output_type": "stream",
     "text": [
      "{'error': {'code': '403', 'message': 'Out of call volume quota for LUIS API - Free  pricing tier. Please retry after 29 days. To increase your call volume switch to a paid tier.'}}\n"
     ]
    }
   ],
   "source": [
    "s = \"what the heck\"\n",
    "r = requests.get(\"https://westus.api.cognitive.microsoft.com/luis/v2.0/apps/fa7abb00-ec17-4455-a75a-fd25bbe74ff2?verbose=true&timezoneOffset=0&subscription-key=05f71fb30f0a49888bf8728ea23c3493&q=\"+s, headers=headers)\n",
    "print(r.json())"
   ]
  },
  {
   "cell_type": "code",
   "execution_count": null,
   "metadata": {},
   "outputs": [],
   "source": []
  }
 ],
 "metadata": {
  "kernelspec": {
   "display_name": "Python 3",
   "language": "python",
   "name": "python3"
  },
  "language_info": {
   "codemirror_mode": {
    "name": "ipython",
    "version": 3
   },
   "file_extension": ".py",
   "mimetype": "text/x-python",
   "name": "python",
   "nbconvert_exporter": "python",
   "pygments_lexer": "ipython3",
   "version": "3.7.3"
  }
 },
 "nbformat": 4,
 "nbformat_minor": 2
}
