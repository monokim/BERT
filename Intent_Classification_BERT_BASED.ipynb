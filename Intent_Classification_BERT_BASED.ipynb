{
 "cells": [
  {
   "cell_type": "markdown",
   "metadata": {
    "colab_type": "text",
    "id": "view-in-github"
   },
   "source": [
    "<a href=\"https://colab.research.google.com/github/monokim/BERT/blob/master/Intent_Classification_BERT.ipynb\" target=\"_parent\"><img src=\"https://colab.research.google.com/assets/colab-badge.svg\" alt=\"Open In Colab\"/></a>"
   ]
  },
  {
   "cell_type": "markdown",
   "metadata": {
    "colab_type": "text",
    "id": "zdw6bkfeAYn0"
   },
   "source": [
    "# Preprocessing"
   ]
  },
  {
   "cell_type": "markdown",
   "metadata": {
    "colab_type": "text",
    "id": "4l3MqPxeAYn3"
   },
   "source": [
    "Check If there is a GPU available."
   ]
  },
  {
   "cell_type": "code",
   "execution_count": 1,
   "metadata": {
    "colab": {
     "base_uri": "https://localhost:8080/",
     "height": 54
    },
    "colab_type": "code",
    "id": "n1U_spRMAYn4",
    "outputId": "cfabfbf4-f3d4-45bb-8a18-26ce6be37dcd",
    "scrolled": true
   },
   "outputs": [
    {
     "name": "stdout",
     "output_type": "stream",
     "text": [
      "There are 1 GPU(s) available.\n",
      "GeForce GTX 1060 will be used.\n"
     ]
    }
   ],
   "source": [
    "import torch\n",
    "\n",
    "if torch.cuda.is_available():\n",
    "    device = torch.device('cuda')\n",
    "    print('There are %d GPU(s) available.' % torch.cuda.device_count())\n",
    "    print(torch.cuda.get_device_name(0), 'will be used.')\n",
    "else:\n",
    "    print('No GPU available, using the CPU instead.')\n",
    "    device = torch.device('cpu')"
   ]
  },
  {
   "cell_type": "markdown",
   "metadata": {},
   "source": [
    "Select Dataset"
   ]
  },
  {
   "cell_type": "code",
   "execution_count": 2,
   "metadata": {},
   "outputs": [
    {
     "name": "stdout",
     "output_type": "stream",
     "text": [
      "bert model will be used\n"
     ]
    }
   ],
   "source": [
    "import pandas as pd\n",
    "import random\n",
    "\n",
    "dataset = 'ubuntu' # imdb, agnews, chatbot, ubuntu, german\n",
    "df = None\n",
    "sentences = []\n",
    "labels = []\n",
    "\n",
    "language_model = 'bert' # bert, albert, roberta, xlnet, bert_german, bert_multi, bert_dbmdz\n",
    "print(language_model + \" model will be used\")"
   ]
  },
  {
   "cell_type": "markdown",
   "metadata": {
    "colab_type": "text",
    "id": "DxVfEMVkAYn8"
   },
   "source": [
    "IMDB Movie review Dataset\n",
    "    - 40,000 training samples\n",
    "    - 2 classes"
   ]
  },
  {
   "cell_type": "code",
   "execution_count": 3,
   "metadata": {
    "colab": {
     "base_uri": "https://localhost:8080/",
     "height": 55
    },
    "colab_type": "code",
    "id": "TS9mqU28FZU8",
    "outputId": "5f55c4b5-cdd4-4747-9b7c-1e995fdf31df"
   },
   "outputs": [],
   "source": [
    "if dataset == 'imdb':\n",
    "    # Load the data set into a pandas dataframe\n",
    "    df = pd.read_csv(\"./Dataset/IMDB_Dataset.csv\", delimiter=',', header=None, names=['review', 'sentiment'])\n",
    "\n",
    "    full_labels = df.sentiment.values\n",
    "    full_labels = [1 if l == 'positive' else 0 for l in labels]\n",
    "    full_sentences = df.review.values\n",
    "    \n",
    "    # Shuffle\n",
    "    tmp = list(zip(full_sentences, full_labels))\n",
    "    random.shuffle(tmp)\n",
    "    full_sentences, full_labels = zip(*tmp)\n",
    "    \n",
    "    labels = full_labels[4000:]\n",
    "    sentences = full_sentences[4000:]"
   ]
  },
  {
   "cell_type": "markdown",
   "metadata": {
    "colab_type": "text",
    "id": "3v5awyN2bNTG"
   },
   "source": [
    "AG NEWS Dataset\n",
    "    - 120,000 training samples\n",
    "    - 7,600 test samples\n",
    "    - 4 classes"
   ]
  },
  {
   "cell_type": "code",
   "execution_count": 4,
   "metadata": {
    "colab": {
     "base_uri": "https://localhost:8080/",
     "height": 146
    },
    "colab_type": "code",
    "id": "jU3JutbJbNnU",
    "outputId": "a5a5c243-a322-4ac0-c10c-fce8a03fc674"
   },
   "outputs": [],
   "source": [
    "if dataset == 'agnews':\n",
    "    # Load the data set into a pandas dataframe\n",
    "    df = pd.read_csv(\"./Dataset/ag_news_train.csv\", delimiter=',', header=None, names=['category', \"head\", 'content'])\n",
    "\n",
    "    # Print number of sentences.\n",
    "    labels = df.category.values - 1\n",
    "    sentences = df.content.values"
   ]
  },
  {
   "cell_type": "markdown",
   "metadata": {},
   "source": [
    "Chatbot Corpus\n",
    "    - 206 samples\n",
    "    - 2 classes"
   ]
  },
  {
   "cell_type": "code",
   "execution_count": 5,
   "metadata": {},
   "outputs": [],
   "source": [
    "if dataset == 'chatbot':\n",
    "    # Load the data set into a pandas dataframe\n",
    "    df = pd.read_json(\"./Dataset/ChatbotCorpus.json\")\n",
    "    text = df.sentences.values\n",
    "    full_sentences = []\n",
    "    full_labels = []\n",
    "    for t in text:\n",
    "        full_sentences.append(t['text'])\n",
    "        label = t['intent']\n",
    "        if label == 'FindConnection':\n",
    "            full_labels.append(0)\n",
    "        elif label == 'DepartureTime':\n",
    "            full_labels.append(1)\n",
    "    \n",
    "    # Shuffle\n",
    "    tmp = list(zip(full_sentences, full_labels))\n",
    "    random.shuffle(tmp)\n",
    "    full_sentences, full_labels = zip(*tmp)\n",
    "    \n",
    "    sentences = full_sentences[20:]\n",
    "    labels = full_labels[20:]"
   ]
  },
  {
   "cell_type": "markdown",
   "metadata": {},
   "source": [
    "Ask Ubuntu corpus\n",
    "    - 162 samples\n",
    "    - 5 classes"
   ]
  },
  {
   "cell_type": "code",
   "execution_count": 6,
   "metadata": {},
   "outputs": [],
   "source": [
    "if dataset == 'ubuntu':\n",
    "    # Load the data set into a pandas dataframe\n",
    "    df = pd.read_json(\"./Dataset/AskUbuntuCorpus.json\")\n",
    "    sentences = df.sentences.values\n",
    "    full_sentences = []\n",
    "    full_labels = []\n",
    "    for s in sentences:\n",
    "        full_sentences.append(s['text'])\n",
    "        label = s['intent']\n",
    "        if label == 'Make Update':\n",
    "            full_labels.append(0)\n",
    "        elif label == 'Setup Printer':\n",
    "            full_labels.append(1)\n",
    "        elif label == 'Shutdown Computer':\n",
    "            full_labels.append(2)\n",
    "        elif label == 'Software Recommendation':\n",
    "            full_labels.append(3)\n",
    "        elif label == 'None':\n",
    "            full_labels.append(4)\n",
    "    \n",
    "    # Shuffle\n",
    "    tmp = list(zip(full_sentences, full_labels))\n",
    "    random.shuffle(tmp)\n",
    "    full_sentences, full_labels = zip(*tmp)\n",
    "    \n",
    "    sentences = full_sentences[20:]\n",
    "    labels = full_labels[20:]"
   ]
  },
  {
   "cell_type": "markdown",
   "metadata": {},
   "source": [
    "German Dataset\n",
    "    - 10kGNAD\n",
    "    - 9,245 training sample\n",
    "    - 9 classes"
   ]
  },
  {
   "cell_type": "code",
   "execution_count": 7,
   "metadata": {},
   "outputs": [],
   "source": [
    "import csv\n",
    "\n",
    "if dataset == 'german':\n",
    "    # Load the data set into a pandas dataframe\n",
    "    with open(\"./Dataset/german_train.csv\",  \"r\", encoding='utf-8',) as csvfile:\n",
    "        reader = csv.reader(csvfile, delimiter=';', quotechar='\\'')\n",
    "        for row in reader:\n",
    "            if row[0] == 'Web':\n",
    "                label = 0\n",
    "            elif row[0] == 'International':\n",
    "                label = 1\n",
    "            elif row[0] == 'Etat':\n",
    "                label = 2\n",
    "            elif row[0] == 'Wirtschaft':\n",
    "                label = 3\n",
    "            elif row[0] == 'Panorama':\n",
    "                label = 4\n",
    "            elif row[0] == 'Sport':\n",
    "                label = 5\n",
    "            elif row[0] == 'Wissenschaft':\n",
    "                label = 6\n",
    "            elif row[0] == 'Kultur':\n",
    "                label = 7\n",
    "            elif row[0] == 'Inland':\n",
    "                label = 8\n",
    "            \n",
    "            labels.append(label)\n",
    "            sentences.append(row[1])"
   ]
  },
  {
   "cell_type": "markdown",
   "metadata": {},
   "source": [
    "Training Sample"
   ]
  },
  {
   "cell_type": "code",
   "execution_count": 8,
   "metadata": {
    "scrolled": true
   },
   "outputs": [
    {
     "name": "stdout",
     "output_type": "stream",
     "text": [
      "Training size : 142\n",
      "('Can you recommend a good modern GUI download manager (wget wrapper?)', 'PDF to word conversion software?', 'Please recommend a hex editor for shell', 'Cannot install printer driver epson l210', 'Upgrade to 12.04 64 bit')\n",
      "(3, 3, 3, 1, 0)\n"
     ]
    }
   ],
   "source": [
    "print(\"Training size : %d\" % len(labels))\n",
    "print(sentences[:5])\n",
    "print(labels[:5])"
   ]
  },
  {
   "cell_type": "markdown",
   "metadata": {
    "colab_type": "text",
    "id": "DJ2Sv3TkAYoG"
   },
   "source": [
    "# BERT Tokenizer\n",
    "\n",
    "Tokenize each words and convert to token IDs"
   ]
  },
  {
   "cell_type": "code",
   "execution_count": 9,
   "metadata": {
    "colab": {
     "base_uri": "https://localhost:8080/",
     "height": 728
    },
    "colab_type": "code",
    "id": "uiMqEtkd3T7o",
    "outputId": "41a14a97-2ec1-46be-e7e4-8fa1e27529c7"
   },
   "outputs": [
    {
     "name": "stdout",
     "output_type": "stream",
     "text": [
      "Requirement already satisfied: transformers in c:\\users\\mingo\\anaconda3\\lib\\site-packages (2.5.1)\n",
      "Requirement already satisfied: boto3 in c:\\users\\mingo\\anaconda3\\lib\\site-packages (from transformers) (1.12.14)\n",
      "Requirement already satisfied: sentencepiece in c:\\users\\mingo\\anaconda3\\lib\\site-packages (from transformers) (0.1.85)\n",
      "Requirement already satisfied: sacremoses in c:\\users\\mingo\\anaconda3\\lib\\site-packages (from transformers) (0.0.38)\n",
      "Requirement already satisfied: tokenizers==0.5.2 in c:\\users\\mingo\\anaconda3\\lib\\site-packages (from transformers) (0.5.2)\n",
      "Requirement already satisfied: tqdm>=4.27 in c:\\users\\mingo\\anaconda3\\lib\\site-packages (from transformers) (4.31.1)\n",
      "Requirement already satisfied: numpy in c:\\users\\mingo\\anaconda3\\lib\\site-packages (from transformers) (1.16.2)\n",
      "Requirement already satisfied: filelock in c:\\users\\mingo\\anaconda3\\lib\\site-packages (from transformers) (3.0.10)\n",
      "Requirement already satisfied: regex!=2019.12.17 in c:\\users\\mingo\\anaconda3\\lib\\site-packages (from transformers) (2020.2.20)\n",
      "Requirement already satisfied: requests in c:\\users\\mingo\\anaconda3\\lib\\site-packages (from transformers) (2.21.0)\n",
      "Requirement already satisfied: s3transfer<0.4.0,>=0.3.0 in c:\\users\\mingo\\anaconda3\\lib\\site-packages (from boto3->transformers) (0.3.3)\n",
      "Requirement already satisfied: botocore<1.16.0,>=1.15.14 in c:\\users\\mingo\\anaconda3\\lib\\site-packages (from boto3->transformers) (1.15.14)\n",
      "Requirement already satisfied: jmespath<1.0.0,>=0.7.1 in c:\\users\\mingo\\anaconda3\\lib\\site-packages (from boto3->transformers) (0.9.5)\n",
      "Requirement already satisfied: six in c:\\users\\mingo\\anaconda3\\lib\\site-packages (from sacremoses->transformers) (1.12.0)\n",
      "Requirement already satisfied: joblib in c:\\users\\mingo\\anaconda3\\lib\\site-packages (from sacremoses->transformers) (0.14.1)\n",
      "Requirement already satisfied: click in c:\\users\\mingo\\anaconda3\\lib\\site-packages (from sacremoses->transformers) (7.0)\n",
      "Requirement already satisfied: certifi>=2017.4.17 in c:\\users\\mingo\\anaconda3\\lib\\site-packages (from requests->transformers) (2019.3.9)\n",
      "Requirement already satisfied: chardet<3.1.0,>=3.0.2 in c:\\users\\mingo\\anaconda3\\lib\\site-packages (from requests->transformers) (3.0.4)\n",
      "Requirement already satisfied: idna<2.9,>=2.5 in c:\\users\\mingo\\anaconda3\\lib\\site-packages (from requests->transformers) (2.8)\n",
      "Requirement already satisfied: urllib3<1.25,>=1.21.1 in c:\\users\\mingo\\anaconda3\\lib\\site-packages (from requests->transformers) (1.24.1)\n",
      "Requirement already satisfied: docutils<0.16,>=0.10 in c:\\users\\mingo\\anaconda3\\lib\\site-packages (from botocore<1.16.0,>=1.15.14->boto3->transformers) (0.14)\n",
      "Requirement already satisfied: python-dateutil<3.0.0,>=2.1 in c:\\users\\mingo\\anaconda3\\lib\\site-packages (from botocore<1.16.0,>=1.15.14->boto3->transformers) (2.8.0)\n"
     ]
    }
   ],
   "source": [
    "# Install transformers by using pip\n",
    "!pip install transformers"
   ]
  },
  {
   "cell_type": "code",
   "execution_count": 10,
   "metadata": {
    "colab": {
     "base_uri": "https://localhost:8080/",
     "height": 142,
     "referenced_widgets": [
      "f05b76c973f249519c510b7aade21510",
      "9250a549d7fd40ad93d2cdd12fb6f91f",
      "ad81993d700646b497f8fbcf2423fe15",
      "cb136730dc874ddb88ff884956c373c8",
      "af99d4addbca4e56970fb2a84d59ed74",
      "a4aa805f33c044f58c4d0dc5611364e1",
      "29ab35ebeb04449c97bfff988caaeb57",
      "f209950dc361472b88dca6a52006ea59"
     ]
    },
    "colab_type": "code",
    "id": "GrqOOw-LAYoH",
    "outputId": "0359a748-9e24-41e4-ac00-f3aa19c373c0"
   },
   "outputs": [
    {
     "name": "stdout",
     "output_type": "stream",
     "text": [
      "Original :  Can you recommend a good modern GUI download manager (wget wrapper?)\n",
      "Tokenized :  ['can', 'you', 'recommend', 'a', 'good', 'modern', 'gui', 'download', 'manager', '(', 'w', '##get', 'wrap', '##per', '?', ')']\n",
      "Token IDs :  [2064, 2017, 16755, 1037, 2204, 2715, 26458, 8816, 3208, 1006, 1059, 18150, 10236, 4842, 1029, 1007]\n"
     ]
    }
   ],
   "source": [
    "from transformers import BertTokenizer\n",
    "from transformers import AlbertTokenizer\n",
    "from transformers import RobertaTokenizer\n",
    "from transformers import XLNetTokenizer\n",
    "\n",
    "# Load BERT Tokenizer\n",
    "if language_model == 'bert':\n",
    "    tokenizer = BertTokenizer.from_pretrained('bert-base-uncased', do_lower_case=True)\n",
    "elif language_model == 'bert_german':\n",
    "    tokenizer = BertTokenizer.from_pretrained('bert-base-german-cased', do_lower_case=True)\n",
    "elif language_model == 'bert_multi':\n",
    "    tokenizer = BertTokenizer.from_pretrained('bert-base-multilingual-cased', do_lower_case=True)\n",
    "elif language_model == 'bert_dbmdz':\n",
    "    tokenizer = BertTokenizer.from_pretrained('bert-base-german-dbmdz-cased', do_lower_case=True)\n",
    "    \n",
    "elif language_model == 'albert':\n",
    "    tokenizer = AlbertTokenizer.from_pretrained('albert-base-v2', do_lower_case=True)\n",
    "elif language_model == 'roberta':\n",
    "    tokenizer = RobertaTokenizer.from_pretrained('roberta-base', do_lower_case=True)\n",
    "elif language_model == 'xlnet':\n",
    "    tokenizer = XLNetTokenizer.from_pretrained('xlnet-base-cased', do_lower_case=True)\n",
    "    sentences = [sentence + \" [SEP] [CLS]\" for sentence in sentences]\n",
    "\n",
    "print('Original : ', sentences[0])\n",
    "print('Tokenized : ', tokenizer.tokenize(sentences[0]))\n",
    "print('Token IDs : ', tokenizer.convert_tokens_to_ids(tokenizer.tokenize(sentences[0])))"
   ]
  },
  {
   "cell_type": "markdown",
   "metadata": {
    "colab_type": "text",
    "id": "sL40H1W1AYoK"
   },
   "source": [
    "Sentence to ID"
   ]
  },
  {
   "cell_type": "code",
   "execution_count": 11,
   "metadata": {
    "colab": {
     "base_uri": "https://localhost:8080/",
     "height": 92
    },
    "colab_type": "code",
    "id": "u2m4kI1kAYoL",
    "outputId": "c8d3e81e-d7bb-403d-a537-b143c4ee0a2c"
   },
   "outputs": [
    {
     "name": "stdout",
     "output_type": "stream",
     "text": [
      "original:  Can you recommend a good modern GUI download manager (wget wrapper?)\n",
      "id:  [101, 2064, 2017, 16755, 1037, 2204, 2715, 26458, 8816, 3208, 1006, 1059, 18150, 10236, 4842, 1029, 1007, 102]\n",
      "Max sentence length:  33\n"
     ]
    }
   ],
   "source": [
    "input_ids = []\n",
    "\n",
    "for s in sentences:\n",
    "    encoded_sentence = tokenizer.encode(s, max_length = 512, add_special_tokens=True)\n",
    "    input_ids.append(encoded_sentence)\n",
    "    \n",
    "print('original: ', sentences[0])\n",
    "print('id: ', input_ids[0])\n",
    "print('Max sentence length: ', max([len(sen) for sen in input_ids]))"
   ]
  },
  {
   "cell_type": "markdown",
   "metadata": {
    "colab_type": "text",
    "id": "SkHGEfJhAYoN"
   },
   "source": [
    "Add padding and attention masks"
   ]
  },
  {
   "cell_type": "code",
   "execution_count": 12,
   "metadata": {
    "colab": {},
    "colab_type": "code",
    "id": "bvnwuYlZAYoO"
   },
   "outputs": [],
   "source": [
    "def add_padding_and_truncate(input_ids):\n",
    "    MAX_LEN = 64\n",
    "    for index, input_id in enumerate(input_ids):\n",
    "        for i in range(MAX_LEN - len(input_id)):\n",
    "          input_id.insert(0, 0)\n",
    "        if len(input_id) > MAX_LEN:\n",
    "          input_ids[index] = input_id[:MAX_LEN]\n"
   ]
  },
  {
   "cell_type": "code",
   "execution_count": 13,
   "metadata": {
    "colab": {
     "base_uri": "https://localhost:8080/",
     "height": 35
    },
    "colab_type": "code",
    "id": "dHoWz1rtAYoQ",
    "outputId": "24bbf0fa-3338-40ef-a254-705981638e23"
   },
   "outputs": [
    {
     "name": "stdout",
     "output_type": "stream",
     "text": [
      "After max question length:  64\n"
     ]
    }
   ],
   "source": [
    "# Fit sentence's length to MAX_LEN\n",
    "add_padding_and_truncate(input_ids)\n",
    "\n",
    "print('After max question length: ', max([len(id) for id in input_ids]))\n",
    "\n",
    "attention_masks = []\n",
    "\n",
    "for id in input_ids:\n",
    "    att_mask = [int(token_id > 0) for token_id in id]\n",
    "    attention_masks.append(att_mask)"
   ]
  },
  {
   "cell_type": "code",
   "execution_count": 14,
   "metadata": {
    "colab": {},
    "colab_type": "code",
    "id": "Ca1FnQVUAYoS"
   },
   "outputs": [],
   "source": [
    "from sklearn.model_selection import train_test_split\n",
    "\n",
    "train_inputs, valid_inputs, train_labels, valid_labels = train_test_split(input_ids, labels, random_state=2020, test_size=0.1)\n",
    "train_masks, valid_masks, _, _ = train_test_split(attention_masks, labels, random_state=2020, test_size=0.1)\n",
    "\n",
    "train_inputs = torch.tensor(train_inputs)\n",
    "valid_inputs = torch.tensor(valid_inputs)\n",
    "\n",
    "train_labels = torch.tensor(train_labels)\n",
    "valid_labels = torch.tensor(valid_labels)\n",
    "\n",
    "train_masks = torch.tensor(train_masks)\n",
    "valid_masks = torch.tensor(valid_masks)"
   ]
  },
  {
   "cell_type": "code",
   "execution_count": 15,
   "metadata": {
    "colab": {},
    "colab_type": "code",
    "id": "3YeciXKeAYoX"
   },
   "outputs": [],
   "source": [
    "from torch.utils.data import TensorDataset, DataLoader, RandomSampler, SequentialSampler\n",
    "\n",
    "batch_size = 32\n",
    "\n",
    "train_data = TensorDataset(train_inputs, train_masks, train_labels)\n",
    "train_sampler = RandomSampler(train_data)\n",
    "train_dataloader = DataLoader(train_data, sampler=train_sampler, batch_size=batch_size)\n",
    "\n",
    "valid_data = TensorDataset(valid_inputs, valid_masks, valid_labels)\n",
    "valid_sampler = RandomSampler(valid_data)\n",
    "valid_dataloader = DataLoader(valid_data, sampler=valid_sampler, batch_size=batch_size)"
   ]
  },
  {
   "cell_type": "markdown",
   "metadata": {
    "colab_type": "text",
    "id": "pyvHK7gbAYoZ"
   },
   "source": [
    "# Training\n",
    "\n",
    "BertForSequenceClassification"
   ]
  },
  {
   "cell_type": "code",
   "execution_count": 16,
   "metadata": {
    "colab": {},
    "colab_type": "code",
    "id": "QpfD-vUfAYoa"
   },
   "outputs": [
    {
     "name": "stdout",
     "output_type": "stream",
     "text": [
      "Number of labels : 5\n"
     ]
    }
   ],
   "source": [
    "from transformers import BertForSequenceClassification, BertConfig\n",
    "from transformers import AlbertForSequenceClassification, AlbertConfig\n",
    "from transformers import RobertaForSequenceClassification, RobertaConfig\n",
    "from transformers import XLNetForSequenceClassification, XLNetConfig\n",
    "\n",
    "num_label = max(labels) + 1\n",
    "print(\"Number of labels : %d\" % num_label)\n",
    "\n",
    "if language_model == 'bert':\n",
    "    model = BertForSequenceClassification.from_pretrained(\n",
    "        'bert-base-uncased',\n",
    "        num_labels = num_label, \n",
    "        output_attentions = False,\n",
    "        output_hidden_states = False\n",
    "    )\n",
    "elif language_model == 'bert_german':\n",
    "    model = BertForSequenceClassification.from_pretrained(\n",
    "        'bert-base-german-cased',\n",
    "        num_labels = num_label, \n",
    "        output_attentions = False,\n",
    "        output_hidden_states = False\n",
    "    )\n",
    "elif language_model == 'bert_multi':\n",
    "    model = BertForSequenceClassification.from_pretrained(\n",
    "        'bert-base-multilingual-cased',\n",
    "        num_labels = num_label, \n",
    "        output_attentions = False,\n",
    "        output_hidden_states = False\n",
    "    )\n",
    "elif language_model == 'bert_dbmdz':\n",
    "    model = BertForSequenceClassification.from_pretrained(\n",
    "        'bert-base-german-dbmdz-cased',\n",
    "        num_labels = num_label, \n",
    "        output_attentions = False,\n",
    "        output_hidden_states = False\n",
    "    )\n",
    "    \n",
    "elif language_model == 'albert':\n",
    "    model = AlbertForSequenceClassification.from_pretrained(\n",
    "        'albert-base-v2',\n",
    "        num_labels = num_label,\n",
    "        output_attentions = False,\n",
    "        output_hidden_states = False\n",
    "    )\n",
    "elif language_model == 'roberta':\n",
    "    model = RobertaForSequenceClassification.from_pretrained(\n",
    "        'roberta-base',\n",
    "        num_labels = num_label,\n",
    "        output_attentions = False,\n",
    "        output_hidden_states = False\n",
    "    )\n",
    "elif language_model == 'xlnet':\n",
    "    model = XLNetForSequenceClassification.from_pretrained(\n",
    "        'xlnet-base-cased',\n",
    "        num_labels = num_label,\n",
    "    )\n",
    "\n",
    "if device.type == 'cuda':\n",
    "  model.cuda()"
   ]
  },
  {
   "cell_type": "code",
   "execution_count": 17,
   "metadata": {
    "colab": {},
    "colab_type": "code",
    "id": "yOPm2ntbAYof"
   },
   "outputs": [],
   "source": [
    "from transformers import get_linear_schedule_with_warmup, AdamW\n",
    "\n",
    "optimizer = AdamW(model.parameters(), lr = 2e-5, eps = 1e-8)\n",
    "\n",
    "epochs = 4\n",
    "\n",
    "total_steps = len(train_dataloader) * epochs\n",
    "\n",
    "scheduler = get_linear_schedule_with_warmup(optimizer, num_warmup_steps = 0, num_training_steps = total_steps)"
   ]
  },
  {
   "cell_type": "code",
   "execution_count": 18,
   "metadata": {
    "colab": {},
    "colab_type": "code",
    "id": "rlsy2adMAYoi"
   },
   "outputs": [],
   "source": [
    "import numpy as np\n",
    "\n",
    "def flat_accuracy(preds, labels):\n",
    "    pred_flat = np.argmax(preds, axis=1).flatten()\n",
    "    labels_flat = labels.flatten()\n",
    "    return np.sum(pred_flat == labels_flat) / len(labels_flat)"
   ]
  },
  {
   "cell_type": "code",
   "execution_count": 19,
   "metadata": {
    "colab": {},
    "colab_type": "code",
    "id": "9kJa6xacAYok"
   },
   "outputs": [],
   "source": [
    "import time\n",
    "import datetime\n",
    "\n",
    "def format_time(elapsed):\n",
    "    elapsed_rounded = int(round(elapsed))\n",
    "    return str(datetime.timedelta(seconds=elapsed_rounded))"
   ]
  },
  {
   "cell_type": "code",
   "execution_count": 20,
   "metadata": {
    "colab": {
     "base_uri": "https://localhost:8080/",
     "height": 1000
    },
    "colab_type": "code",
    "id": "1ErScfHqAYom",
    "outputId": "e88b3a6c-bfbe-4dea-a964-23759d4f2d2b"
   },
   "outputs": [
    {
     "name": "stdout",
     "output_type": "stream",
     "text": [
      "\n",
      "======== Epoch 1 / 4 ========\n",
      "Training...\n",
      "\n",
      "  Average training loss: 1.718\n",
      "  Training epoch took: 0:00:03\n",
      "\n",
      "Running Validation...\n",
      "  Accuracy: 0.200\n",
      "  Validation took: 0:00:00\n",
      "\n",
      "======== Epoch 2 / 4 ========\n",
      "Training...\n",
      "\n",
      "  Average training loss: 1.541\n",
      "  Training epoch took: 0:00:03\n",
      "\n",
      "Running Validation...\n",
      "  Accuracy: 0.467\n",
      "  Validation took: 0:00:00\n",
      "\n",
      "======== Epoch 3 / 4 ========\n",
      "Training...\n",
      "\n",
      "  Average training loss: 1.471\n",
      "  Training epoch took: 0:00:03\n",
      "\n",
      "Running Validation...\n",
      "  Accuracy: 0.533\n",
      "  Validation took: 0:00:00\n",
      "\n",
      "======== Epoch 4 / 4 ========\n",
      "Training...\n",
      "\n",
      "  Average training loss: 1.437\n",
      "  Training epoch took: 0:00:03\n",
      "\n",
      "Running Validation...\n",
      "  Accuracy: 0.533\n",
      "  Validation took: 0:00:00\n",
      "\n",
      "Training complete!\n",
      "Training took: 0:00:12\n"
     ]
    }
   ],
   "source": [
    "import random\n",
    "\n",
    "\n",
    "seed_val = 42\n",
    "\n",
    "random.seed(seed_val)\n",
    "np.random.seed(seed_val)\n",
    "torch.manual_seed(seed_val)\n",
    "torch.cuda.manual_seed_all(seed_val)\n",
    "\n",
    "# Store the average loss after each epoch so we can plot them\n",
    "loss_values = []\n",
    "\n",
    "t_total = time.time()\n",
    "for epoch_i in range(0, epochs):\n",
    "    \n",
    "    # ========================================\n",
    "    #               Training\n",
    "    # ========================================\n",
    "    \n",
    "    print(\"\")\n",
    "    print('======== Epoch {:} / {:} ========'.format(epoch_i + 1, epochs))\n",
    "    print('Training...')\n",
    "\n",
    "    # Measure how long the training epoch takes\n",
    "    t0 = time.time()\n",
    "\n",
    "    # Reset the total loss for this epoch\n",
    "    total_loss = 0\n",
    "\n",
    "    # Put the model into training mode\n",
    "    model.train()\n",
    "\n",
    "    # For each batch of training data\n",
    "    for step, batch in enumerate(train_dataloader):\n",
    "\n",
    "        # Progress update every 40 batches.\n",
    "        if step % 40 == 0 and not step == 0:\n",
    "            # Calculate elapsed time in minutes.\n",
    "            elapsed = format_time(time.time() - t0)\n",
    "            print('  Batch {:>5,}  of  {:>5,}.    Elapsed: {:}.'.format(step, len(train_dataloader), elapsed))\n",
    "\n",
    "        # Unpack this training batch from our dataloader\n",
    "        b_input_ids = batch[0].to(device)\n",
    "        b_input_mask = batch[1].to(device)\n",
    "        b_labels = batch[2].to(device)\n",
    "\n",
    "        # Clear previously calculated gradients\n",
    "        model.zero_grad()        \n",
    "\n",
    "        # Perform a forward pass\n",
    "        outputs = model(b_input_ids, token_type_ids=None, attention_mask=b_input_mask, labels=b_labels)\n",
    "        \n",
    "        # Returns a tuple\n",
    "        loss = outputs[0]\n",
    "\n",
    "        # Accumulate the training loss over all of the batches\n",
    "        total_loss += loss.item()\n",
    "\n",
    "        # Perform a backward pass to calculate the gradients\n",
    "        loss.backward()\n",
    "\n",
    "        # Clip the norm of the gradients to 1.0 to prevent gradient explode\n",
    "        torch.nn.utils.clip_grad_norm_(model.parameters(), 1.0)\n",
    "\n",
    "        # Update parameters and take a step using the computed gradient.\n",
    "        optimizer.step()\n",
    "\n",
    "        # Update the learning rate.\n",
    "        scheduler.step()\n",
    "\n",
    "    # Calculate and store the average loss over the training data.\n",
    "    avg_train_loss = total_loss / len(train_dataloader)            \n",
    "    loss_values.append(avg_train_loss)\n",
    "\n",
    "    print(\"\")\n",
    "    print(\"  Average training loss: {0:.3f}\".format(avg_train_loss))\n",
    "    print(\"  Training epoch took: {:}\".format(format_time(time.time() - t0)))\n",
    "        \n",
    "    # ========================================\n",
    "    #               Validation\n",
    "    # ========================================\n",
    "\n",
    "    print(\"\")\n",
    "    print(\"Running Validation...\")\n",
    "\n",
    "    t0 = time.time()\n",
    "\n",
    "    # Put the model in evaluation mode\n",
    "    model.eval()\n",
    "\n",
    "    eval_loss, eval_accuracy = 0, 0\n",
    "    nb_eval_steps, nb_eval_examples = 0, 0\n",
    "\n",
    "    # For each batch of validation data\n",
    "    for batch in valid_dataloader:\n",
    "        \n",
    "        # Add batch to GPU\n",
    "        batch = tuple(t.to(device) for t in batch)\n",
    "        \n",
    "        # Unpack the inputs from dataloader\n",
    "        b_input_ids, b_input_mask, b_labels = batch\n",
    "        \n",
    "        # No computing or storing gradients\n",
    "        with torch.no_grad():        \n",
    "            # Forward pass, calculate logit predictions.\n",
    "            outputs = model(b_input_ids, token_type_ids=None, attention_mask=b_input_mask)\n",
    "        \n",
    "        logits = outputs[0]\n",
    "\n",
    "        # Move logits and labels to CPU\n",
    "        logits = logits.detach().cpu().numpy()\n",
    "        label_ids = b_labels.to('cpu').numpy()\n",
    "        \n",
    "        # Calculate the accuracy\n",
    "        tmp_eval_accuracy = flat_accuracy(logits, label_ids)\n",
    "        \n",
    "        # Accumulate the total accuracy.\n",
    "        eval_accuracy += tmp_eval_accuracy\n",
    "\n",
    "        # Track the number of batches\n",
    "        nb_eval_steps += 1\n",
    "\n",
    "        \n",
    "    print(\"  Accuracy: {0:.3f}\".format(eval_accuracy / nb_eval_steps))\n",
    "    print(\"  Validation took: {:}\".format(format_time(time.time() - t0)))\n",
    "\n",
    "print(\"\")\n",
    "print(\"Training complete!\")\n",
    "print(\"Training took: {:}\".format(format_time(time.time() - t_total)))"
   ]
  },
  {
   "cell_type": "markdown",
   "metadata": {
    "colab_type": "text",
    "id": "CAkvLl9pAYoo"
   },
   "source": [
    "Plot"
   ]
  },
  {
   "cell_type": "code",
   "execution_count": 21,
   "metadata": {
    "colab": {
     "base_uri": "https://localhost:8080/",
     "height": 295
    },
    "colab_type": "code",
    "id": "Cmcj6mPBAYop",
    "outputId": "17a43dc1-1730-49f8-f6b6-52c2ac5eac88"
   },
   "outputs": [
    {
     "data": {
      "text/plain": [
       "<Figure size 640x480 with 1 Axes>"
      ]
     },
     "metadata": {},
     "output_type": "display_data"
    }
   ],
   "source": [
    "import matplotlib.pyplot as plt\n",
    "\n",
    "plt.plot(loss_values, 'b-o')\n",
    "plt.title(\"Training Loss\")\n",
    "plt.xlabel(\"Epoch\")\n",
    "plt.ylabel(\"Loss\")\n",
    "\n",
    "plt.show()"
   ]
  },
  {
   "cell_type": "markdown",
   "metadata": {
    "colab_type": "text",
    "id": "0vyWFO7rAYor"
   },
   "source": [
    "# Test"
   ]
  },
  {
   "cell_type": "markdown",
   "metadata": {},
   "source": [
    "Select Dataset"
   ]
  },
  {
   "cell_type": "code",
   "execution_count": 22,
   "metadata": {},
   "outputs": [],
   "source": [
    "import pandas as pd\n",
    "\n",
    "sentences = []\n",
    "labels = []\n",
    "\n",
    "if dataset == 'imdb':\n",
    "    sentences = df.review.values[1:4000]\n",
    "    labels = df.sentiment.values[1:4000]\n",
    "    \n",
    "elif dataset == 'agnews':\n",
    "    df = pd.read_csv(\"./Dataset/ag_news_test.csv\", delimiter=',', header=None, names=['category', \"head\", 'content'])\n",
    "    sentences = df.content.values\n",
    "    labels = df.category.values - 1\n",
    "\n",
    "elif dataset == 'chatbot':\n",
    "    sentences = full_sentences[:20]\n",
    "    labels = full_labels[:20]\n",
    "\n",
    "elif dataset == 'ubuntu':\n",
    "    sentences = full_sentences[:20]\n",
    "    labels = full_labels[:20]\n",
    "\n",
    "elif dataset == 'german':\n",
    "    with open(\"./Dataset/german_test.csv\",  \"r\", encoding='utf-8',) as csvfile:\n",
    "        reader = csv.reader(csvfile, delimiter=';', quotechar='\\'')\n",
    "        for row in reader:\n",
    "            if row[0] == 'Web':\n",
    "                label = 0\n",
    "            elif row[0] == 'International':\n",
    "                label = 1\n",
    "            elif row[0] == 'Etat':\n",
    "                label = 2\n",
    "            elif row[0] == 'Wirtschaft':\n",
    "                label = 3\n",
    "            elif row[0] == 'Panorama':\n",
    "                label = 4\n",
    "            elif row[0] == 'Sport':\n",
    "                label = 5\n",
    "            elif row[0] == 'Wissenschaft':\n",
    "                label = 6\n",
    "            elif row[0] == 'Kultur':\n",
    "                label = 7\n",
    "            elif row[0] == 'Inland':\n",
    "                label = 8\n",
    "\n",
    "            labels.append(label)\n",
    "            sentences.append(row[1])"
   ]
  },
  {
   "cell_type": "markdown",
   "metadata": {},
   "source": [
    "test"
   ]
  },
  {
   "cell_type": "code",
   "execution_count": 23,
   "metadata": {
    "colab": {
     "base_uri": "https://localhost:8080/",
     "height": 90
    },
    "colab_type": "code",
    "id": "ZPBuLiXxAYos",
    "outputId": "e7ea777d-05ca-4add-f399-a1ed96585c05"
   },
   "outputs": [
    {
     "name": "stdout",
     "output_type": "stream",
     "text": [
      "Test size : 20\n",
      "Accuracy: 0.600\n",
      "Validation took: 0:00:00\n",
      "Done\n"
     ]
    }
   ],
   "source": [
    "print(\"Test size : %d\" % len(labels))\n",
    "t0 = time.time() \n",
    "\n",
    "if language_model == 'xlnet':\n",
    "    sentences = [sentence + \" [SEP] [CLS]\" for sentence in sentences]\n",
    "\n",
    "input_ids = []\n",
    "\n",
    "for s in sentences:\n",
    "    encoded_sentence = tokenizer.encode(s, max_length = 512, add_special_tokens=True)\n",
    "    input_ids.append(encoded_sentence)\n",
    "        \n",
    "add_padding_and_truncate(input_ids)\n",
    "\n",
    "attention_masks = []\n",
    "\n",
    "for id in input_ids:\n",
    "    att_mask = [int(token_id > 0) for token_id in id]\n",
    "    attention_masks.append(att_mask)\n",
    "    \n",
    "prediction_inputs = torch.tensor(input_ids)\n",
    "prediction_masks = torch.tensor(attention_masks)\n",
    "prediction_labels = torch.tensor(labels)\n",
    "\n",
    "batch_size = 32\n",
    "\n",
    "prediction_data = TensorDataset(prediction_inputs, prediction_masks, prediction_labels)\n",
    "prediction_sampler = SequentialSampler(prediction_data)\n",
    "prediction_dataloader = DataLoader(prediction_data, sampler=prediction_sampler, batch_size=batch_size)\n",
    "\n",
    "model.eval()\n",
    "\n",
    "eval_accuracy = 0\n",
    "eval_steps = 0\n",
    "for batch in prediction_dataloader:\n",
    "    batch = tuple(t.to(device) for t in batch)\n",
    "    b_input_ids, b_input_mask, b_labels = batch\n",
    "    \n",
    "    with torch.no_grad():\n",
    "        outputs = model(b_input_ids, token_type_ids=None, attention_mask=b_input_mask)\n",
    "    \n",
    "    logits = outputs[0]\n",
    "    logits = logits.detach().cpu().numpy()\n",
    "    label_ids = b_labels.to('cpu').numpy()\n",
    "\n",
    "    eval_accuracy += flat_accuracy(logits, label_ids)\n",
    "    eval_steps += 1\n",
    "\n",
    "print(\"Accuracy: {0:.3f}\".format(eval_accuracy / eval_steps))\n",
    "print(\"Validation took: {:}\".format(format_time(time.time() - t0)))\n",
    "print(\"Done\")"
   ]
  }
 ],
 "metadata": {
  "accelerator": "GPU",
  "colab": {
   "collapsed_sections": [],
   "include_colab_link": true,
   "name": "Intent_Classification_BERT.ipynb",
   "provenance": [],
   "toc_visible": true
  },
  "kernelspec": {
   "display_name": "Python 3",
   "language": "python",
   "name": "python3"
  },
  "language_info": {
   "codemirror_mode": {
    "name": "ipython",
    "version": 3
   },
   "file_extension": ".py",
   "mimetype": "text/x-python",
   "name": "python",
   "nbconvert_exporter": "python",
   "pygments_lexer": "ipython3",
   "version": "3.7.3"
  },
  "widgets": {
   "application/vnd.jupyter.widget-state+json": {
    "29ab35ebeb04449c97bfff988caaeb57": {
     "model_module": "@jupyter-widgets/controls",
     "model_name": "DescriptionStyleModel",
     "state": {
      "_model_module": "@jupyter-widgets/controls",
      "_model_module_version": "1.5.0",
      "_model_name": "DescriptionStyleModel",
      "_view_count": null,
      "_view_module": "@jupyter-widgets/base",
      "_view_module_version": "1.2.0",
      "_view_name": "StyleView",
      "description_width": ""
     }
    },
    "9250a549d7fd40ad93d2cdd12fb6f91f": {
     "model_module": "@jupyter-widgets/base",
     "model_name": "LayoutModel",
     "state": {
      "_model_module": "@jupyter-widgets/base",
      "_model_module_version": "1.2.0",
      "_model_name": "LayoutModel",
      "_view_count": null,
      "_view_module": "@jupyter-widgets/base",
      "_view_module_version": "1.2.0",
      "_view_name": "LayoutView",
      "align_content": null,
      "align_items": null,
      "align_self": null,
      "border": null,
      "bottom": null,
      "display": null,
      "flex": null,
      "flex_flow": null,
      "grid_area": null,
      "grid_auto_columns": null,
      "grid_auto_flow": null,
      "grid_auto_rows": null,
      "grid_column": null,
      "grid_gap": null,
      "grid_row": null,
      "grid_template_areas": null,
      "grid_template_columns": null,
      "grid_template_rows": null,
      "height": null,
      "justify_content": null,
      "justify_items": null,
      "left": null,
      "margin": null,
      "max_height": null,
      "max_width": null,
      "min_height": null,
      "min_width": null,
      "object_fit": null,
      "object_position": null,
      "order": null,
      "overflow": null,
      "overflow_x": null,
      "overflow_y": null,
      "padding": null,
      "right": null,
      "top": null,
      "visibility": null,
      "width": null
     }
    },
    "a4aa805f33c044f58c4d0dc5611364e1": {
     "model_module": "@jupyter-widgets/base",
     "model_name": "LayoutModel",
     "state": {
      "_model_module": "@jupyter-widgets/base",
      "_model_module_version": "1.2.0",
      "_model_name": "LayoutModel",
      "_view_count": null,
      "_view_module": "@jupyter-widgets/base",
      "_view_module_version": "1.2.0",
      "_view_name": "LayoutView",
      "align_content": null,
      "align_items": null,
      "align_self": null,
      "border": null,
      "bottom": null,
      "display": null,
      "flex": null,
      "flex_flow": null,
      "grid_area": null,
      "grid_auto_columns": null,
      "grid_auto_flow": null,
      "grid_auto_rows": null,
      "grid_column": null,
      "grid_gap": null,
      "grid_row": null,
      "grid_template_areas": null,
      "grid_template_columns": null,
      "grid_template_rows": null,
      "height": null,
      "justify_content": null,
      "justify_items": null,
      "left": null,
      "margin": null,
      "max_height": null,
      "max_width": null,
      "min_height": null,
      "min_width": null,
      "object_fit": null,
      "object_position": null,
      "order": null,
      "overflow": null,
      "overflow_x": null,
      "overflow_y": null,
      "padding": null,
      "right": null,
      "top": null,
      "visibility": null,
      "width": null
     }
    },
    "ad81993d700646b497f8fbcf2423fe15": {
     "model_module": "@jupyter-widgets/controls",
     "model_name": "IntProgressModel",
     "state": {
      "_dom_classes": [],
      "_model_module": "@jupyter-widgets/controls",
      "_model_module_version": "1.5.0",
      "_model_name": "IntProgressModel",
      "_view_count": null,
      "_view_module": "@jupyter-widgets/controls",
      "_view_module_version": "1.5.0",
      "_view_name": "ProgressView",
      "bar_style": "success",
      "description": "Downloading: 100%",
      "description_tooltip": null,
      "layout": "IPY_MODEL_a4aa805f33c044f58c4d0dc5611364e1",
      "max": 231508,
      "min": 0,
      "orientation": "horizontal",
      "style": "IPY_MODEL_af99d4addbca4e56970fb2a84d59ed74",
      "value": 231508
     }
    },
    "af99d4addbca4e56970fb2a84d59ed74": {
     "model_module": "@jupyter-widgets/controls",
     "model_name": "ProgressStyleModel",
     "state": {
      "_model_module": "@jupyter-widgets/controls",
      "_model_module_version": "1.5.0",
      "_model_name": "ProgressStyleModel",
      "_view_count": null,
      "_view_module": "@jupyter-widgets/base",
      "_view_module_version": "1.2.0",
      "_view_name": "StyleView",
      "bar_color": null,
      "description_width": "initial"
     }
    },
    "cb136730dc874ddb88ff884956c373c8": {
     "model_module": "@jupyter-widgets/controls",
     "model_name": "HTMLModel",
     "state": {
      "_dom_classes": [],
      "_model_module": "@jupyter-widgets/controls",
      "_model_module_version": "1.5.0",
      "_model_name": "HTMLModel",
      "_view_count": null,
      "_view_module": "@jupyter-widgets/controls",
      "_view_module_version": "1.5.0",
      "_view_name": "HTMLView",
      "description": "",
      "description_tooltip": null,
      "layout": "IPY_MODEL_f209950dc361472b88dca6a52006ea59",
      "placeholder": "​",
      "style": "IPY_MODEL_29ab35ebeb04449c97bfff988caaeb57",
      "value": " 232k/232k [00:00&lt;00:00, 990kB/s]"
     }
    },
    "f05b76c973f249519c510b7aade21510": {
     "model_module": "@jupyter-widgets/controls",
     "model_name": "HBoxModel",
     "state": {
      "_dom_classes": [],
      "_model_module": "@jupyter-widgets/controls",
      "_model_module_version": "1.5.0",
      "_model_name": "HBoxModel",
      "_view_count": null,
      "_view_module": "@jupyter-widgets/controls",
      "_view_module_version": "1.5.0",
      "_view_name": "HBoxView",
      "box_style": "",
      "children": [
       "IPY_MODEL_ad81993d700646b497f8fbcf2423fe15",
       "IPY_MODEL_cb136730dc874ddb88ff884956c373c8"
      ],
      "layout": "IPY_MODEL_9250a549d7fd40ad93d2cdd12fb6f91f"
     }
    },
    "f209950dc361472b88dca6a52006ea59": {
     "model_module": "@jupyter-widgets/base",
     "model_name": "LayoutModel",
     "state": {
      "_model_module": "@jupyter-widgets/base",
      "_model_module_version": "1.2.0",
      "_model_name": "LayoutModel",
      "_view_count": null,
      "_view_module": "@jupyter-widgets/base",
      "_view_module_version": "1.2.0",
      "_view_name": "LayoutView",
      "align_content": null,
      "align_items": null,
      "align_self": null,
      "border": null,
      "bottom": null,
      "display": null,
      "flex": null,
      "flex_flow": null,
      "grid_area": null,
      "grid_auto_columns": null,
      "grid_auto_flow": null,
      "grid_auto_rows": null,
      "grid_column": null,
      "grid_gap": null,
      "grid_row": null,
      "grid_template_areas": null,
      "grid_template_columns": null,
      "grid_template_rows": null,
      "height": null,
      "justify_content": null,
      "justify_items": null,
      "left": null,
      "margin": null,
      "max_height": null,
      "max_width": null,
      "min_height": null,
      "min_width": null,
      "object_fit": null,
      "object_position": null,
      "order": null,
      "overflow": null,
      "overflow_x": null,
      "overflow_y": null,
      "padding": null,
      "right": null,
      "top": null,
      "visibility": null,
      "width": null
     }
    }
   }
  }
 },
 "nbformat": 4,
 "nbformat_minor": 1
}
